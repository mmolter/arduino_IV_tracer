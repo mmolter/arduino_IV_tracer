{
 "cells": [
  {
   "cell_type": "code",
   "execution_count": 1,
   "metadata": {
    "collapsed": true
   },
   "outputs": [],
   "source": []
  },
  {
   "cell_type": "code",
   "execution_count": 54,
   "metadata": {},
   "outputs": [],
   "source": [
    "import matplotlib.pyplot as plt\n",
    "import numpy as np\n",
    "import serial\n",
    "import re\n",
    "\n",
    "from IPython.display import clear_output\n",
    "from tqdm import tqdm, trange\n",
    "\n",
    "def trace(title=None, n=100, filename=None, port='COM6'):\n",
    "    voltage = []\n",
    "    current = []\n",
    "       \n",
    "    with serial.Serial(port=port, baudrate=115200, timeout=0.1) as s:\n",
    "        s.reset_input_buffer()\n",
    "\n",
    "        for j in trange(n):\n",
    "            data = s.readline().decode('utf-8')\n",
    "\n",
    "            match = re.search(r'(\\-?\\d\\.\\d\\d),(\\-?\\d\\.\\d\\d)', data)\n",
    "\n",
    "            if match:\n",
    "                v, i= match.groups()\n",
    "\n",
    "                voltage.append(float(v))\n",
    "                current.append(float(i))\n",
    "\n",
    "    plt.scatter(voltage, current, s=2, c='k')\n",
    "\n",
    "    plt.xlabel('Voltage (V)')\n",
    "    plt.ylabel('Current (mA)')\n",
    "\n",
    "    plt.axhline(0, color='black', linewidth=1, linestyle=':')\n",
    "    plt.axvline(0, color='black', linewidth=1, linestyle=':')\n",
    "    \n",
    "    plt.xlim([-1.5, 3])\n",
    "\n",
    "    if title:\n",
    "        plt.title('I-V Curve for %s' % title)\n",
    "    else:\n",
    "        plt.title('I-V Curve')\n",
    "\n",
    "    plt.grid(which='both', linestyle=':')\n",
    "    \n",
    "    if filename:\n",
    "        plt.savefig(filename)\n",
    "    \n",
    "    plt.show()\n",
    "    \n",
    "    return voltage, current"
   ]
  },
  {
   "cell_type": "code",
   "execution_count": 39,
   "metadata": {
    "scrolled": true
   },
   "outputs": [
    {
     "name": "stdout",
     "output_type": "stream",
     "text": [
      "293 of 1000...\n"
     ]
    },
    {
     "ename": "KeyboardInterrupt",
     "evalue": "",
     "output_type": "error",
     "traceback": [
      "\u001b[1;31m---------------------------------------------------------------------------\u001b[0m",
      "\u001b[1;31mKeyboardInterrupt\u001b[0m                         Traceback (most recent call last)",
      "\u001b[1;32m<ipython-input-39-0a822812bb9d>\u001b[0m in \u001b[0;36m<module>\u001b[1;34m()\u001b[0m\n\u001b[1;32m----> 1\u001b[1;33m \u001b[0mtrace\u001b[0m\u001b[1;33m(\u001b[0m\u001b[0mtitle\u001b[0m\u001b[1;33m=\u001b[0m\u001b[1;34m'1N4001 Diode'\u001b[0m\u001b[1;33m,\u001b[0m \u001b[0mn\u001b[0m\u001b[1;33m=\u001b[0m\u001b[1;36m1000\u001b[0m\u001b[1;33m,\u001b[0m \u001b[0mfilename\u001b[0m\u001b[1;33m=\u001b[0m\u001b[1;34m'diode.png'\u001b[0m\u001b[1;33m)\u001b[0m\u001b[1;33m\u001b[0m\u001b[0m\n\u001b[0m",
      "\u001b[1;32m<ipython-input-38-9dee54709cba>\u001b[0m in \u001b[0;36mtrace\u001b[1;34m(title, n, filename, port)\u001b[0m\n\u001b[0;32m      9\u001b[0m \u001b[1;33m\u001b[0m\u001b[0m\n\u001b[0;32m     10\u001b[0m         \u001b[1;32mfor\u001b[0m \u001b[0mj\u001b[0m \u001b[1;32min\u001b[0m \u001b[0mrange\u001b[0m\u001b[1;33m(\u001b[0m\u001b[0mn\u001b[0m\u001b[1;33m)\u001b[0m\u001b[1;33m:\u001b[0m\u001b[1;33m\u001b[0m\u001b[0m\n\u001b[1;32m---> 11\u001b[1;33m             \u001b[0mdata\u001b[0m \u001b[1;33m=\u001b[0m \u001b[0ms\u001b[0m\u001b[1;33m.\u001b[0m\u001b[0mreadline\u001b[0m\u001b[1;33m(\u001b[0m\u001b[1;33m)\u001b[0m\u001b[1;33m.\u001b[0m\u001b[0mdecode\u001b[0m\u001b[1;33m(\u001b[0m\u001b[1;34m'utf-8'\u001b[0m\u001b[1;33m)\u001b[0m\u001b[1;33m\u001b[0m\u001b[0m\n\u001b[0m\u001b[0;32m     12\u001b[0m \u001b[1;33m\u001b[0m\u001b[0m\n\u001b[0;32m     13\u001b[0m             \u001b[0mmatch\u001b[0m \u001b[1;33m=\u001b[0m \u001b[0mre\u001b[0m\u001b[1;33m.\u001b[0m\u001b[0msearch\u001b[0m\u001b[1;33m(\u001b[0m\u001b[1;34mr'(\\-?\\d\\.\\d\\d),(\\-?\\d\\.\\d\\d)'\u001b[0m\u001b[1;33m,\u001b[0m \u001b[0mdata\u001b[0m\u001b[1;33m)\u001b[0m\u001b[1;33m\u001b[0m\u001b[0m\n",
      "\u001b[1;32m~\\AppData\\Local\\Continuum\\anaconda3\\lib\\site-packages\\serial\\serialwin32.py\u001b[0m in \u001b[0;36mread\u001b[1;34m(self, size)\u001b[0m\n\u001b[0;32m    288\u001b[0m                     \u001b[0mctypes\u001b[0m\u001b[1;33m.\u001b[0m\u001b[0mbyref\u001b[0m\u001b[1;33m(\u001b[0m\u001b[0mself\u001b[0m\u001b[1;33m.\u001b[0m\u001b[0m_overlapped_read\u001b[0m\u001b[1;33m)\u001b[0m\u001b[1;33m,\u001b[0m\u001b[1;33m\u001b[0m\u001b[0m\n\u001b[0;32m    289\u001b[0m                     \u001b[0mctypes\u001b[0m\u001b[1;33m.\u001b[0m\u001b[0mbyref\u001b[0m\u001b[1;33m(\u001b[0m\u001b[0mrc\u001b[0m\u001b[1;33m)\u001b[0m\u001b[1;33m,\u001b[0m\u001b[1;33m\u001b[0m\u001b[0m\n\u001b[1;32m--> 290\u001b[1;33m                     True)\n\u001b[0m\u001b[0;32m    291\u001b[0m                 \u001b[1;32mif\u001b[0m \u001b[1;32mnot\u001b[0m \u001b[0mresult_ok\u001b[0m\u001b[1;33m:\u001b[0m\u001b[1;33m\u001b[0m\u001b[0m\n\u001b[0;32m    292\u001b[0m                     \u001b[1;32mif\u001b[0m \u001b[0mwin32\u001b[0m\u001b[1;33m.\u001b[0m\u001b[0mGetLastError\u001b[0m\u001b[1;33m(\u001b[0m\u001b[1;33m)\u001b[0m \u001b[1;33m!=\u001b[0m \u001b[0mwin32\u001b[0m\u001b[1;33m.\u001b[0m\u001b[0mERROR_OPERATION_ABORTED\u001b[0m\u001b[1;33m:\u001b[0m\u001b[1;33m\u001b[0m\u001b[0m\n",
      "\u001b[1;31mKeyboardInterrupt\u001b[0m: "
     ]
    }
   ],
   "source": [
    "trace(title='1N4001 Diode', n=1000, filename='diode.png')"
   ]
  },
  {
   "cell_type": "code",
   "execution_count": 22,
   "metadata": {},
   "outputs": [
    {
     "name": "stdout",
     "output_type": "stream",
     "text": [
      "0 of 1000...\n",
      "100 of 1000...\n",
      "200 of 1000...\n",
      "300 of 1000...\n",
      "400 of 1000...\n",
      "500 of 1000...\n",
      "600 of 1000...\n",
      "700 of 1000...\n",
      "800 of 1000...\n",
      "900 of 1000...\n"
     ]
    },
    {
     "data": {
      "image/png": "[encoded data removed]",
      "text/plain": [
       "<matplotlib.figure.Figure at 0x16e7f8f7240>"
      ]
     },
     "metadata": {},
     "output_type": "display_data"
    }
   ],
   "source": [
    "voltage, current = trace(title='330 $\\Omega$ Resistor', n=1000, filename='330 ohm.png')"
   ]
  },
  {
   "cell_type": "code",
   "execution_count": 27,
   "metadata": {},
   "outputs": [
    {
     "name": "stdout",
     "output_type": "stream",
     "text": [
      "339.254809141\n",
      "0.0892367835886\n"
     ]
    }
   ],
   "source": [
    "m, b = np.polyfit(np.asarray(current) / 1000, voltage, 1)\n",
    "print(m)\n",
    "print(b)"
   ]
  },
  {
   "cell_type": "code",
   "execution_count": 28,
   "metadata": {},
   "outputs": [
    {
     "data": {
      "text/plain": [
       "0.02727272727272727"
      ]
     },
     "execution_count": 28,
     "metadata": {},
     "output_type": "execute_result"
    }
   ],
   "source": [
    "9/330"
   ]
  },
  {
   "cell_type": "code",
   "execution_count": 56,
   "metadata": {
    "scrolled": true
   },
   "outputs": [
    {
     "name": "stderr",
     "output_type": "stream",
     "text": [
      "\n",
      "  0%|                                                                                        | 0/10000 [00:00<?, ?it/s]\n",
      "  0%|                                                                                | 8/10000 [00:00<02:24, 69.15it/s]\n",
      "  0%|                                                                               | 11/10000 [00:00<06:28, 25.72it/s]\n",
      "  0%|                                                                               | 13/10000 [00:00<08:03, 20.64it/s]\n",
      "  0%|                                                                               | 15/10000 [00:00<09:33, 17.42it/s]\n",
      "  0%|▏                                                                              | 17/10000 [00:00<09:37, 17.29it/s]\n",
      "  0%|▏                                                                              | 19/10000 [00:01<09:45, 17.05it/s]\n",
      "  0%|▏                                                                              | 21/10000 [00:01<09:46, 17.01it/s]\n",
      "  0%|▏                                                                              | 23/10000 [00:01<10:00, 16.62it/s]\n",
      "  0%|▏                                                                              | 25/10000 [00:01<09:58, 16.66it/s]\n",
      "  0%|▏                                                                              | 27/10000 [00:01<10:05, 16.46it/s]\n",
      "  0%|▏                                                                              | 29/10000 [00:01<10:13, 16.26it/s]\n",
      "  0%|▏                                                                              | 31/10000 [00:01<10:11, 16.31it/s]\n",
      "  0%|▎                                                                              | 33/10000 [00:02<10:13, 16.24it/s]\n",
      "  0%|▎                                                                              | 35/10000 [00:02<10:19, 16.09it/s]\n",
      "  0%|▎                                                                              | 37/10000 [00:02<10:21, 16.04it/s]\n",
      "  0%|▎                                                                              | 39/10000 [00:02<10:23, 15.97it/s]\n",
      "  0%|▎                                                                              | 41/10000 [00:02<10:25, 15.92it/s]\n",
      "  0%|▎                                                                              | 43/10000 [00:02<10:26, 15.90it/s]\n",
      "  0%|▎                                                                              | 45/10000 [00:02<10:27, 15.87it/s]\n",
      "  0%|▎                                                                              | 47/10000 [00:02<10:29, 15.82it/s]\n",
      "  0%|▍                                                                              | 49/10000 [00:03<10:29, 15.80it/s]\n",
      "  1%|▍                                                                              | 51/10000 [00:03<10:30, 15.77it/s]\n",
      "  1%|▍                                                                              | 53/10000 [00:03<10:32, 15.74it/s]\n",
      "  1%|▍                                                                              | 55/10000 [00:03<10:32, 15.72it/s]\n",
      "  1%|▍                                                                              | 57/10000 [00:03<10:33, 15.70it/s]\n",
      "  1%|▍                                                                              | 59/10000 [00:03<10:34, 15.67it/s]\n",
      "  1%|▍                                                                              | 61/10000 [00:03<10:34, 15.67it/s]\n",
      "  1%|▍                                                                              | 63/10000 [00:04<10:35, 15.64it/s]\n",
      "  1%|▌                                                                              | 65/10000 [00:04<10:36, 15.61it/s]\n",
      "  1%|▌                                                                              | 67/10000 [00:04<10:36, 15.60it/s]\n",
      "  1%|▌                                                                              | 69/10000 [00:04<10:36, 15.59it/s]\n",
      "  1%|▌                                                                              | 71/10000 [00:04<10:37, 15.57it/s]\n",
      "  1%|▌                                                                              | 73/10000 [00:04<10:37, 15.56it/s]\n",
      "  1%|▌                                                                              | 75/10000 [00:04<10:37, 15.56it/s]\n",
      "  1%|▌                                                                              | 77/10000 [00:04<10:39, 15.53it/s]\n",
      "  1%|▌                                                                              | 79/10000 [00:05<10:38, 15.53it/s]\n",
      "  1%|▋                                                                              | 81/10000 [00:05<10:39, 15.51it/s]\n",
      "  1%|▋                                                                              | 83/10000 [00:05<10:39, 15.50it/s]\n",
      "  1%|▋                                                                              | 85/10000 [00:05<10:38, 15.52it/s]\n",
      "  1%|▋                                                                              | 87/10000 [00:05<10:40, 15.48it/s]\n",
      "  1%|▋                                                                              | 89/10000 [00:05<10:40, 15.47it/s]\n",
      "  1%|▋                                                                              | 91/10000 [00:05<10:40, 15.47it/s]\n",
      "  1%|▋                                                                              | 93/10000 [00:06<10:40, 15.47it/s]\n",
      "  1%|▊                                                                              | 95/10000 [00:06<10:41, 15.45it/s]\n",
      "  1%|▊                                                                              | 97/10000 [00:06<10:41, 15.45it/s]\n",
      "  1%|▊                                                                              | 99/10000 [00:06<10:41, 15.43it/s]\n",
      "  1%|▊                                                                             | 101/10000 [00:06<10:41, 15.43it/s]\n",
      "  1%|▊                                                                             | 103/10000 [00:06<10:41, 15.43it/s]\n",
      "  1%|▊                                                                             | 105/10000 [00:06<10:41, 15.41it/s]\n",
      "  1%|▊                                                                             | 107/10000 [00:06<10:41, 15.41it/s]\n",
      "  1%|▊                                                                             | 109/10000 [00:07<10:41, 15.41it/s]\n",
      "  1%|▊                                                                             | 111/10000 [00:07<10:41, 15.42it/s]\n",
      "  1%|▉                                                                             | 113/10000 [00:07<10:42, 15.39it/s]\n",
      "  1%|▉                                                                             | 115/10000 [00:07<10:42, 15.39it/s]\n",
      "  1%|▉                                                                             | 117/10000 [00:07<10:42, 15.39it/s]\n",
      "  1%|▉                                                                             | 119/10000 [00:07<10:41, 15.39it/s]\n",
      "  1%|▉                                                                             | 121/10000 [00:07<10:42, 15.38it/s]\n",
      "  1%|▉                                                                             | 123/10000 [00:08<10:42, 15.37it/s]\n",
      "  1%|▉                                                                             | 125/10000 [00:08<10:42, 15.37it/s]\n",
      "  1%|▉                                                                             | 127/10000 [00:08<10:42, 15.36it/s]\n",
      "  1%|█                                                                             | 129/10000 [00:08<10:42, 15.36it/s]\n",
      "  1%|█                                                                             | 131/10000 [00:08<10:42, 15.35it/s]\n",
      "  1%|█                                                                             | 133/10000 [00:08<10:43, 15.34it/s]\n",
      "  1%|█                                                                             | 135/10000 [00:08<10:43, 15.34it/s]\n",
      "  1%|█                                                                             | 137/10000 [00:08<10:41, 15.36it/s]\n",
      " 20%|███████████████▋                                                             | 2033/10000 [02:14<08:46, 15.12it/s]"
     ]
    },
    {
     "ename": "KeyboardInterrupt",
     "evalue": "",
     "output_type": "error",
     "traceback": [
      "\u001b[1;31m---------------------------------------------------------------------------\u001b[0m",
      "\u001b[1;31mKeyboardInterrupt\u001b[0m                         Traceback (most recent call last)",
      "\u001b[1;32m<ipython-input-56-2a551ac9d9f5>\u001b[0m in \u001b[0;36m<module>\u001b[1;34m()\u001b[0m\n\u001b[1;32m----> 1\u001b[1;33m \u001b[0mtrace\u001b[0m\u001b[1;33m(\u001b[0m\u001b[0mtitle\u001b[0m\u001b[1;33m=\u001b[0m\u001b[1;34m'Red LED'\u001b[0m\u001b[1;33m,\u001b[0m \u001b[0mn\u001b[0m\u001b[1;33m=\u001b[0m\u001b[1;36m10000\u001b[0m\u001b[1;33m,\u001b[0m \u001b[0mfilename\u001b[0m\u001b[1;33m=\u001b[0m\u001b[1;34m'red led.png'\u001b[0m\u001b[1;33m)\u001b[0m\u001b[1;33m\u001b[0m\u001b[0m\n\u001b[0m",
      "\u001b[1;32m<ipython-input-54-290c79e250a1>\u001b[0m in \u001b[0;36mtrace\u001b[1;34m(title, n, filename, port)\u001b[0m\n\u001b[0;32m     10\u001b[0m \u001b[1;33m\u001b[0m\u001b[0m\n\u001b[0;32m     11\u001b[0m         \u001b[1;32mfor\u001b[0m \u001b[0mj\u001b[0m \u001b[1;32min\u001b[0m \u001b[0mtrange\u001b[0m\u001b[1;33m(\u001b[0m\u001b[0mn\u001b[0m\u001b[1;33m)\u001b[0m\u001b[1;33m:\u001b[0m\u001b[1;33m\u001b[0m\u001b[0m\n\u001b[1;32m---> 12\u001b[1;33m             \u001b[0mdata\u001b[0m \u001b[1;33m=\u001b[0m \u001b[0ms\u001b[0m\u001b[1;33m.\u001b[0m\u001b[0mreadline\u001b[0m\u001b[1;33m(\u001b[0m\u001b[1;33m)\u001b[0m\u001b[1;33m.\u001b[0m\u001b[0mdecode\u001b[0m\u001b[1;33m(\u001b[0m\u001b[1;34m'utf-8'\u001b[0m\u001b[1;33m)\u001b[0m\u001b[1;33m\u001b[0m\u001b[0m\n\u001b[0m\u001b[0;32m     13\u001b[0m \u001b[1;33m\u001b[0m\u001b[0m\n\u001b[0;32m     14\u001b[0m             \u001b[0mmatch\u001b[0m \u001b[1;33m=\u001b[0m \u001b[0mre\u001b[0m\u001b[1;33m.\u001b[0m\u001b[0msearch\u001b[0m\u001b[1;33m(\u001b[0m\u001b[1;34mr'(\\-?\\d\\.\\d\\d),(\\-?\\d\\.\\d\\d)'\u001b[0m\u001b[1;33m,\u001b[0m \u001b[0mdata\u001b[0m\u001b[1;33m)\u001b[0m\u001b[1;33m\u001b[0m\u001b[0m\n",
      "\u001b[1;32m~\\AppData\\Local\\Continuum\\anaconda3\\lib\\site-packages\\serial\\serialwin32.py\u001b[0m in \u001b[0;36mread\u001b[1;34m(self, size)\u001b[0m\n\u001b[0;32m    288\u001b[0m                     \u001b[0mctypes\u001b[0m\u001b[1;33m.\u001b[0m\u001b[0mbyref\u001b[0m\u001b[1;33m(\u001b[0m\u001b[0mself\u001b[0m\u001b[1;33m.\u001b[0m\u001b[0m_overlapped_read\u001b[0m\u001b[1;33m)\u001b[0m\u001b[1;33m,\u001b[0m\u001b[1;33m\u001b[0m\u001b[0m\n\u001b[0;32m    289\u001b[0m                     \u001b[0mctypes\u001b[0m\u001b[1;33m.\u001b[0m\u001b[0mbyref\u001b[0m\u001b[1;33m(\u001b[0m\u001b[0mrc\u001b[0m\u001b[1;33m)\u001b[0m\u001b[1;33m,\u001b[0m\u001b[1;33m\u001b[0m\u001b[0m\n\u001b[1;32m--> 290\u001b[1;33m                     True)\n\u001b[0m\u001b[0;32m    291\u001b[0m                 \u001b[1;32mif\u001b[0m \u001b[1;32mnot\u001b[0m \u001b[0mresult_ok\u001b[0m\u001b[1;33m:\u001b[0m\u001b[1;33m\u001b[0m\u001b[0m\n\u001b[0;32m    292\u001b[0m                     \u001b[1;32mif\u001b[0m \u001b[0mwin32\u001b[0m\u001b[1;33m.\u001b[0m\u001b[0mGetLastError\u001b[0m\u001b[1;33m(\u001b[0m\u001b[1;33m)\u001b[0m \u001b[1;33m!=\u001b[0m \u001b[0mwin32\u001b[0m\u001b[1;33m.\u001b[0m\u001b[0mERROR_OPERATION_ABORTED\u001b[0m\u001b[1;33m:\u001b[0m\u001b[1;33m\u001b[0m\u001b[0m\n",
      "\u001b[1;31mKeyboardInterrupt\u001b[0m: "
     ]
    },
    {
     "name": "stderr",
     "output_type": "stream",
     "text": [
      "\r",
      " 20%|███████████████▋                                                             | 2033/10000 [02:29<09:44, 13.64it/s]"
     ]
    }
   ],
   "source": [
    "trace(title='Red LED', n=10000, filename='red led.png')"
   ]
  },
  {
   "cell_type": "code",
   "execution_count": null,
   "metadata": {
    "collapsed": true
   },
   "outputs": [],
   "source": []
  }
 ],
 "metadata": {
  "kernelspec": {
   "display_name": "Python 3",
   "language": "python",
   "name": "python3"
  },
  "language_info": {
   "codemirror_mode": {
    "name": "ipython",
    "version": 3
   },
   "file_extension": ".py",
   "mimetype": "text/x-python",
   "name": "python",
   "nbconvert_exporter": "python",
   "pygments_lexer": "ipython3",
   "version": "3.6.3"
  }
 },
 "nbformat": 4,
 "nbformat_minor": 2
}
